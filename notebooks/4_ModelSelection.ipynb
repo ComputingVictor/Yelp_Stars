{
 "cells": [
  {
   "cell_type": "markdown",
   "id": "b23f30cc",
   "metadata": {},
   "source": [
    "<a name=\"top\"> <h1>4. Model Selection</h1> <a>\n",
    "\n",
    "<p>Yelp Dataset- Stars Prediction<br />\n",
    "<strong>Aprendizaje Autom&aacute;tico</strong><br />\n",
    "<strong>Master Universitario en Ciencia de Datos</strong></p>\n",
    "\n",
    "<p>&nbsp;</p>\n",
    "\n",
    "<p style=\"text-align:right\">Antonio Nogués Podadera (<em>antonio.nogues@cunef.edu</em>)</p>\n",
    "<p style=\"text-align:right\">V&iacute;ctor Viloria V&aacute;zquez (<em>victor.viloria@cunef.edu</em>)</p>"
   ]
  },
  {
   "cell_type": "markdown",
   "id": "6bfb189f",
   "metadata": {},
   "source": [
    "<hr style=\"border:1px solid gray\">"
   ]
  },
  {
   "cell_type": "markdown",
   "id": "be85ceaf",
   "metadata": {},
   "source": [
    "### Estructura"
   ]
  },
  {
   "cell_type": "markdown",
   "id": "71d60985",
   "metadata": {},
   "source": [
    "[0. Introducción](#introduccion) \n",
    "\n",
    "\n",
    "[1. Importación de librerias](#librerias) \n",
    "\n",
    "\n",
    "[2. Comparación de modelos](#modelos) \n",
    "\n",
    "[3. Carga de datos](#datos) \n",
    "\n",
    "[4. Creación del modelo XGBoost](#creacion) \n",
    "\n",
    "   \n",
    "[5. Optimización del modelo](#optimizacion) \n",
    "\n",
    "   \n",
    "[6. Predicción del modelo](#prediccion)\n",
    "\n",
    "[7. Evaluación de las métricas del modelo](#metricas)\n",
    "\n",
    "   - Matriz de confusión\n",
    "   - Métricas: Accuracy, Recall, Precision, F0.5, F1\n",
    "   - Curva ROC\n",
    "   \n",
    "[8. Conclusiones Generales](#conclusiones)"
   ]
  },
  {
   "cell_type": "markdown",
   "id": "e92d0091",
   "metadata": {},
   "source": [
    "<hr style=\"border:1px solid gray\">"
   ]
  },
  {
   "cell_type": "markdown",
   "id": "2d97b8d8",
   "metadata": {},
   "source": [
    "# <a name=\"introduccion\"> 0. Introducción <a> \n"
   ]
  },
  {
   "cell_type": "markdown",
   "id": "f793080c",
   "metadata": {},
   "source": [
    "En este documento **realizaremos una recopilación de la métrica Accuracy, F0.5 y AUC para comparar los modelos que hemos realizado** durante este estudio. Una vez comparados, **seleccionaremos aquel que mejor score haya obtenido** y trataremos de optimizarlo ajustando las mejores métricas. "
   ]
  },
  {
   "cell_type": "markdown",
   "id": "89bee552",
   "metadata": {},
   "source": [
    "# <a name=\"librerias\"> 1. Importación de librerias y funciones <a> \n"
   ]
  },
  {
   "cell_type": "code",
   "execution_count": 4,
   "id": "675f9962",
   "metadata": {},
   "outputs": [],
   "source": [
    "# Import basic libraries\n",
    "\n",
    "import pandas as pd\n",
    "import numpy as np\n",
    "import matplotlib.pyplot as plt\n",
    "import seaborn as sns\n",
    "import pickle\n",
    "import warnings\n",
    "warnings.filterwarnings('ignore')\n",
    "\n",
    "# Import sklearn metrics\n",
    "\n",
    "from sklearn import metrics\n",
    "from sklearn.model_selection import cross_val_score\n",
    "from sklearn.metrics import ConfusionMatrixDisplay, classification_report, roc_curve,roc_auc_score, fbeta_score, make_scorer, plot_confusion_matrix\n",
    "import scikitplot as skplt\n",
    "\n",
    "\n",
    "# Import sklearn models and pipeline\n",
    "from sklearn.pipeline import Pipeline\n",
    "from sklearn.compose import ColumnTransformer\n",
    "import lightgbm as lgb\n",
    "from sklearn.model_selection import RandomizedSearchCV, GridSearchCV\n",
    "from sklearn.model_selection import StratifiedKFold"
   ]
  },
  {
   "cell_type": "markdown",
   "id": "ae51c35f",
   "metadata": {},
   "source": [
    "# <a name=\"modelos\"> 2. Comparación de modelos <a> \n"
   ]
  },
  {
   "cell_type": "markdown",
   "id": "7f6a65e1",
   "metadata": {},
   "source": [
    "Procedemos a crear una tabla donde podamos observar las métricas de los modelos. \n",
    "\n",
    "Como ya comentamos en el documento `3.1_DummyModel`, nuestro dataset se caracteriza por tener un desbalanceo muy grande, es por ello que el análisis de las métricas de accuracy y precisión siempre van a ser muy elevadas, sin embargo, no reflejan la realidad predictora de nuestro modelo. Por lo que nos centraremos principalmente en las métrica F0.5 score y AUC .\n",
    "\n",
    "**Seleccionaremos aquella que tenga un F0.5 superior. Dado que para nuestro problema, nos interesa centrarnos en que trate de reconocer de la forma más precisa si un restaurante va  atener una pntuación alta o no, con el menor número posible de falsos positivos.**"
   ]
  },
  {
   "cell_type": "code",
   "execution_count": 5,
   "id": "259093cb",
   "metadata": {},
   "outputs": [
    {
     "data": {
      "text/html": [
       "<div>\n",
       "<style scoped>\n",
       "    .dataframe tbody tr th:only-of-type {\n",
       "        vertical-align: middle;\n",
       "    }\n",
       "\n",
       "    .dataframe tbody tr th {\n",
       "        vertical-align: top;\n",
       "    }\n",
       "\n",
       "    .dataframe thead th {\n",
       "        text-align: right;\n",
       "    }\n",
       "</style>\n",
       "<table border=\"1\" class=\"dataframe\">\n",
       "  <thead>\n",
       "    <tr style=\"text-align: right;\">\n",
       "      <th></th>\n",
       "      <th>Accuracy</th>\n",
       "      <th>AUC</th>\n",
       "      <th>F0.5</th>\n",
       "    </tr>\n",
       "    <tr>\n",
       "      <th>Modelo</th>\n",
       "      <th></th>\n",
       "      <th></th>\n",
       "      <th></th>\n",
       "    </tr>\n",
       "  </thead>\n",
       "  <tbody>\n",
       "    <tr>\n",
       "      <th>LightGBM</th>\n",
       "      <td>0.75</td>\n",
       "      <td>0.836</td>\n",
       "      <td>0.737</td>\n",
       "    </tr>\n",
       "    <tr>\n",
       "      <th>XGBoost</th>\n",
       "      <td>0.74</td>\n",
       "      <td>0.83</td>\n",
       "      <td>0.732</td>\n",
       "    </tr>\n",
       "    <tr>\n",
       "      <th>Random Forest</th>\n",
       "      <td>0.74</td>\n",
       "      <td>0.82</td>\n",
       "      <td>0.731</td>\n",
       "    </tr>\n",
       "    <tr>\n",
       "      <th>Logistic Regression</th>\n",
       "      <td>0.73</td>\n",
       "      <td>0.80</td>\n",
       "      <td>0.71</td>\n",
       "    </tr>\n",
       "    <tr>\n",
       "      <th>SVM</th>\n",
       "      <td>0.73</td>\n",
       "      <td>0.80</td>\n",
       "      <td>0.714</td>\n",
       "    </tr>\n",
       "    <tr>\n",
       "      <th>Dummy</th>\n",
       "      <td>0.53</td>\n",
       "      <td>0.5</td>\n",
       "      <td>0</td>\n",
       "    </tr>\n",
       "  </tbody>\n",
       "</table>\n",
       "</div>"
      ],
      "text/plain": [
       "                    Accuracy    AUC   F0.5\n",
       "Modelo                                    \n",
       "LightGBM                0.75  0.836  0.737\n",
       "XGBoost                 0.74   0.83  0.732\n",
       "Random Forest           0.74   0.82  0.731\n",
       "Logistic Regression     0.73   0.80   0.71\n",
       "SVM                     0.73   0.80  0.714\n",
       "Dummy                   0.53    0.5      0"
      ]
     },
     "execution_count": 5,
     "metadata": {},
     "output_type": "execute_result"
    }
   ],
   "source": [
    "# Create a DF with the record of the F2 metric.\n",
    "\n",
    "model_data = {'Modelo': ['Dummy', 'Logistic Regression', 'Random Forest','LightGBM','SVM', 'XGBoost'],\n",
    "\n",
    "                'Accuracy': ['0.53', '0.73', '0.74', '0.75', '0.73', '0.74'],\n",
    "                'AUC': ['0.5', '0.80', '0.82', '0.836', '0.80', '0.83'],\n",
    "                'F0.5': ['0', '0.71', '0.731', '0.737', '0.714', '0.732']}\n",
    "\n",
    "tabla_modelos = pd.DataFrame(model_data, columns=['Modelo', 'Accuracy', 'AUC', 'F0.5'])\n",
    "\n",
    "\n",
    "# Print tabla_modelos\n",
    "\n",
    "tabla_modelos.sort_values(by='AUC',ascending=False).set_index(\"Modelo\")"
   ]
  },
  {
   "cell_type": "markdown",
   "id": "1451daab",
   "metadata": {},
   "source": [
    "Como vemos reflejado en la tabla, **el modelo que mejor se ha comportado ha sido el LightGBM**. Es por ello que procederemos a optimizarlo y a obtener las predicciones de la función de test."
   ]
  },
  {
   "cell_type": "markdown",
   "id": "53b4472f",
   "metadata": {},
   "source": [
    "# <a name=\"datos\"> 3. Carga de datos <a> "
   ]
  },
  {
   "cell_type": "markdown",
   "id": "7ee72552",
   "metadata": {},
   "source": [
    "Para la optimización del modelo, procederemos a cargar las funciones que usaremos, el set de train y validación juntos y el set de test, para predecir los datos sobre el."
   ]
  },
  {
   "cell_type": "code",
   "execution_count": 6,
   "id": "8a9384ef",
   "metadata": {},
   "outputs": [],
   "source": [
    "# Import the functions to use in the notebook.\n",
    "\n",
    "from aux_functions import load_model, save_model\n",
    "\n",
    "\n",
    "#Load the preprocessor\n",
    "\n",
    "preprocessor = load_model('../models/preprocessor.pickle')\n",
    "\n",
    "# Load the train dataset separated by other variables and target. \n",
    "\n",
    "x_train_all = pd.read_parquet(\"../data/processed/x_train_all.parquet\").reset_index(drop=True)\n",
    "y_train_all = pd.read_parquet(\"../data/processed/y_train_all.parquet\").reset_index(drop=True)['stars']\n",
    "\n",
    "# Load the test dataset separated by other variables and target. \n",
    "\n",
    "x_test = pd.read_parquet(\"../data/processed/x_test.parquet\")\n",
    "y_test = pd.read_parquet(\"../data/processed/y_test.parquet\")['stars']"
   ]
  },
  {
   "cell_type": "markdown",
   "id": "bc3e4b9f",
   "metadata": {},
   "source": [
    "# <a name=\"creacion\"> 4. Creación del modelo LightGBM <a> "
   ]
  },
  {
   "cell_type": "markdown",
   "id": "fe1eded7",
   "metadata": {},
   "source": [
    "Creamos el Pipeline del modelo, con el preprocesado y el algoritmo en su interior."
   ]
  },
  {
   "cell_type": "code",
   "execution_count": 7,
   "id": "1a146241",
   "metadata": {},
   "outputs": [],
   "source": [
    "# Design the parameters.\n",
    "\n",
    "n_jobs = -1\n",
    "random_state = 12345\n",
    "\n",
    "# Create a pipeline that applies a preprocess of the data and then the LogisticRegression model.\n",
    "\n",
    "lightgbm_model_test = Pipeline([\n",
    "    ('preprocessor', preprocessor),\n",
    "    ('clasificador', lgb.LGBMClassifier(n_jobs=n_jobs, random_state=random_state)\n",
    "    )\n",
    "])"
   ]
  },
  {
   "cell_type": "markdown",
   "id": "a317fc6e",
   "metadata": {},
   "source": [
    "# <a name=\"optimizacion\"> 5. Optimización del modelo <a> "
   ]
  },
  {
   "cell_type": "markdown",
   "id": "92a96531",
   "metadata": {},
   "source": [
    "Para optimizar el modelo realizaremos pruebas con diferentes hiperparámetros y nos quedaremos con aquel que mayor AUC nos devuelva."
   ]
  },
  {
   "cell_type": "code",
   "execution_count": 61,
   "id": "d7e9fd5f",
   "metadata": {},
   "outputs": [],
   "source": [
    "# A parameter grid for XGBoost\n",
    "params = {\n",
    "        'clasificador__num_leaves': [40, 50, 60, 100, 120],\n",
    "        'clasificador__min_child_samples': [20, 30, 40, 50],\n",
    "        'clasificador__learning_rate': [0.01, 0.05]\n",
    "        }"
   ]
  },
  {
   "cell_type": "code",
   "execution_count": 62,
   "id": "42f2cf43",
   "metadata": {
    "scrolled": false
   },
   "outputs": [
    {
     "data": {
      "text/plain": [
       "GridSearchCV(estimator=Pipeline(steps=[('preprocessor',\n",
       "                                        ColumnTransformer(transformers=[('short_cat',\n",
       "                                                                         Pipeline(steps=[('imputer',\n",
       "                                                                                          SimpleImputer(fill_value=0,\n",
       "                                                                                                        strategy='constant',\n",
       "                                                                                                        verbose='deprecated')),\n",
       "                                                                                         ('onehot',\n",
       "                                                                                          OneHotEncoder(handle_unknown='ignore',\n",
       "                                                                                                        sparse='deprecated'))]),\n",
       "                                                                         ['attributes_ByAppointmentOnly',\n",
       "                                                                          'attributes_BusinessAcceptsCreditCards',\n",
       "                                                                          'attribut...\n",
       "                                                                          'total_hours_Wednesday',\n",
       "                                                                          'total_hours_Thursday',\n",
       "                                                                          'total_hours_Friday',\n",
       "                                                                          'total_hours_Saturday',\n",
       "                                                                          'total_hours_Sunday',\n",
       "                                                                          'total_checkins'])])),\n",
       "                                       ('clasificador',\n",
       "                                        LGBMClassifier(random_state=12345))]),\n",
       "             param_grid={'clasificador__learning_rate': [0.01, 0.05],\n",
       "                         'clasificador__min_child_samples': [20, 30, 40, 50],\n",
       "                         'clasificador__num_leaves': [40, 50, 60, 100, 120]},\n",
       "             scoring='roc_auc')"
      ]
     },
     "execution_count": 62,
     "metadata": {},
     "output_type": "execute_result"
    }
   ],
   "source": [
    "# Search the best model with the grid created before.\n",
    "\n",
    "random_state = 12345\n",
    "scoring='roc_auc'\n",
    "n_jobs= -1\n",
    "\n",
    "search = GridSearchCV(lightgbm_model_test, params,scoring=scoring)\n",
    "search.fit(x_train_all, y_train_all)"
   ]
  },
  {
   "cell_type": "code",
   "execution_count": 64,
   "id": "864b5777",
   "metadata": {},
   "outputs": [],
   "source": [
    "# Save backup of the best grid.\n",
    "\n",
    "save_model(search,'../models/search.pickle')"
   ]
  },
  {
   "cell_type": "markdown",
   "id": "d3e30038",
   "metadata": {},
   "source": [
    "Observamos los parametors y score resultantes:"
   ]
  },
  {
   "cell_type": "code",
   "execution_count": 68,
   "id": "651a218a",
   "metadata": {},
   "outputs": [
    {
     "name": "stdout",
     "output_type": "stream",
     "text": [
      "{'clasificador__learning_rate': 0.05, 'clasificador__min_child_samples': 20, 'clasificador__num_leaves': 100}\n",
      "0.8345247541630461\n"
     ]
    }
   ],
   "source": [
    "# Print best grid.\n",
    "\n",
    "print(search.best_params_)    \n",
    "print(search.best_score_)"
   ]
  },
  {
   "cell_type": "markdown",
   "id": "df422939",
   "metadata": {},
   "source": [
    "Tras realizar la optimización del modelo con algunos hiperparámetros observamos que tenemos un AUC ROC ligeramente menor que el logrado previamente, sin embargo, hay que tener en cuenta que el dataset entrenado ahora contiene mayor información, por lo que será el que aplciaremos sobre el set de test."
   ]
  },
  {
   "cell_type": "markdown",
   "id": "0fbb0f39",
   "metadata": {},
   "source": [
    "**Para evitar optimizar de nuevo el modelo, ejecutar a partir de la celda que aparece a continuación.**"
   ]
  },
  {
   "cell_type": "code",
   "execution_count": 8,
   "id": "fdda0fc1",
   "metadata": {},
   "outputs": [],
   "source": [
    "# Load the XGB model already fitted in /models.\n",
    "\n",
    "search = load_model('../models/search.pickle')\n"
   ]
  },
  {
   "cell_type": "code",
   "execution_count": 85,
   "id": "6450e64c",
   "metadata": {},
   "outputs": [],
   "source": [
    "# Design the parameters.\n",
    "\n",
    "n_jobs = -1\n",
    "random_state = 12345\n",
    "learning_rate = 0.05\n",
    "min_child_samples = 20\n",
    "num_leaves = 100\n",
    "\n",
    "# Create a pipeline that applies a preprocess of the data and then the LogisticRegression model.\n",
    "\n",
    "lightgbm_model_test = Pipeline([\n",
    "    ('preprocessor', preprocessor),\n",
    "    ('clasificador', lgb.LGBMClassifier(learning_rate=learning_rate, min_child_samples=min_child_samples, num_leaves=num_leaves,n_jobs=n_jobs, random_state=random_state )\n",
    "    )\n",
    "])\n"
   ]
  },
  {
   "cell_type": "code",
   "execution_count": 86,
   "id": "a2ad2537",
   "metadata": {},
   "outputs": [
    {
     "data": {
      "text/plain": [
       "Pipeline(steps=[('preprocessor',\n",
       "                 ColumnTransformer(transformers=[('short_cat',\n",
       "                                                  Pipeline(steps=[('imputer',\n",
       "                                                                   SimpleImputer(fill_value=0,\n",
       "                                                                                 strategy='constant',\n",
       "                                                                                 verbose='deprecated')),\n",
       "                                                                  ('onehot',\n",
       "                                                                   OneHotEncoder(handle_unknown='ignore',\n",
       "                                                                                 sparse='deprecated'))]),\n",
       "                                                  ['attributes_ByAppointmentOnly',\n",
       "                                                   'attributes_BusinessAcceptsCreditCards',\n",
       "                                                   'attributes_BikeParking',\n",
       "                                                   'attrib...\n",
       "                                                   'attributes_AgesAllowed']),\n",
       "                                                 ('num',\n",
       "                                                  Pipeline(steps=[('scaler',\n",
       "                                                                   StandardScaler())]),\n",
       "                                                  ['review_count',\n",
       "                                                   'total_hours_Monday',\n",
       "                                                   'total_hours_Tuesday',\n",
       "                                                   'total_hours_Wednesday',\n",
       "                                                   'total_hours_Thursday',\n",
       "                                                   'total_hours_Friday',\n",
       "                                                   'total_hours_Saturday',\n",
       "                                                   'total_hours_Sunday',\n",
       "                                                   'total_checkins'])])),\n",
       "                ('clasificador',\n",
       "                 LGBMClassifier(learning_rate=0.05, num_leaves=100,\n",
       "                                random_state=12345))])"
      ]
     },
     "execution_count": 86,
     "metadata": {},
     "output_type": "execute_result"
    }
   ],
   "source": [
    "# Optimization of the light_gbm with the train set: input and target data. \n",
    "\n",
    "lightgbm_model_test.fit(x_train_all, y_train_all)"
   ]
  },
  {
   "cell_type": "code",
   "execution_count": 88,
   "id": "de1969e0",
   "metadata": {},
   "outputs": [],
   "source": [
    "# Save backup of the model with the parameters.\n",
    "\n",
    "save_model(lightgbm_model_test,'../models/lightgbm_model_test.pickle')"
   ]
  },
  {
   "cell_type": "markdown",
   "id": "baaae291",
   "metadata": {},
   "source": [
    "# <a name=\"prediccion\"> 6. Predicción del modelo <a> "
   ]
  },
  {
   "cell_type": "code",
   "execution_count": 9,
   "id": "ee59cb99",
   "metadata": {},
   "outputs": [],
   "source": [
    "# Predict the target value of the validation set.\n",
    "\n",
    "predictions = search.predict(x_test)\n",
    "\n",
    "# Predict the probabilities of the target value for the validation set.\n",
    "\n",
    "predict_probabilities = search.predict_proba(x_test)"
   ]
  },
  {
   "cell_type": "markdown",
   "id": "c8cbb2e2",
   "metadata": {},
   "source": [
    "Una vez obtenidas las probabilidades, representamos el histograma de densidad de la predicción:"
   ]
  },
  {
   "cell_type": "code",
   "execution_count": 10,
   "id": "e31090a7",
   "metadata": {},
   "outputs": [
    {
     "data": {
      "image/png": "[encoded data removed]",
      "text/plain": [
       "<Figure size 640x480 with 1 Axes>"
      ]
     },
     "metadata": {},
     "output_type": "display_data"
    }
   ],
   "source": [
    "# Parametric density histogram of the predicted probabilities, shwoing the treshold of 0.5.\n",
    "\n",
    "sns.distplot(predict_probabilities[:,1], kde=True, rug=False, bins=20)\n",
    "plt.axvline(x=0.5, color='r', linestyle='--')\n",
    "plt.show()\n"
   ]
  },
  {
   "cell_type": "markdown",
   "id": "1a550c71",
   "metadata": {},
   "source": [
    "Obtenemos un histograma prácticamente identico al obtenido en el set de validación, por lo que es buena señal al no tener gran diferencia, puesto que muestra que el modelo va a tener un funcionamiento similiar al testeado."
   ]
  },
  {
   "cell_type": "markdown",
   "id": "345cb96e",
   "metadata": {},
   "source": [
    "# <a name=\"metricas\"> 7. Evaluación de las métricas del modelo <a> "
   ]
  },
  {
   "cell_type": "markdown",
   "id": "01dead7e",
   "metadata": {},
   "source": [
    "### 7.1. Matriz de confusión"
   ]
  },
  {
   "cell_type": "code",
   "execution_count": 11,
   "id": "f5054cba",
   "metadata": {},
   "outputs": [
    {
     "name": "stdout",
     "output_type": "stream",
     "text": [
      "Confusion matrix, without normalization\n",
      "[[3524 1106]\n",
      " [1108 2891]]\n",
      "Normalized confusion matrix\n",
      "[[0.76112311 0.23887689]\n",
      " [0.27706927 0.72293073]]\n"
     ]
    },
    {
     "data": {
      "image/png": "[encoded data removed]",
      "text/plain": [
       "<Figure size 640x480 with 2 Axes>"
      ]
     },
     "metadata": {},
     "output_type": "display_data"
    },
    {
     "data": {
      "image/png": "[encoded data removed]",
      "text/plain": [
       "<Figure size 640x480 with 2 Axes>"
      ]
     },
     "metadata": {},
     "output_type": "display_data"
    }
   ],
   "source": [
    "# List with the titles and parameters\n",
    "\n",
    "titles_options = [(\"Confusion matrix, without normalization\", None),\n",
    "                  (\"Normalized confusion matrix\", 'true')]\n",
    "\n",
    "# Plot the confusion matrix\n",
    "\n",
    "for title, normalize in titles_options:\n",
    "    disp = plot_confusion_matrix(search, x_test, y_test,\n",
    "                                 # display_labels=ytest,\n",
    "                                 cmap=plt.cm.Blues,\n",
    "                                 normalize=normalize)\n",
    "    disp.ax_.set_title(title)\n",
    "\n",
    "    print(title)\n",
    "    print(disp.confusion_matrix)\n",
    "\n",
    "plt.show()"
   ]
  },
  {
   "cell_type": "markdown",
   "id": "c37dda05",
   "metadata": {},
   "source": [
    "Sobre el set de test, mantiene unos resultados similares al estudiado en `3.4.LightGBM`, llegando a clasificar un 72% de los restaurantes con alta puntuación correctamente."
   ]
  },
  {
   "cell_type": "markdown",
   "id": "5cb8e325",
   "metadata": {},
   "source": [
    "### 7.2. Métricas: Accuracy, Recall, Precision,F0.5 y F1 score"
   ]
  },
  {
   "cell_type": "code",
   "execution_count": 13,
   "id": "b5c4ef0e",
   "metadata": {},
   "outputs": [
    {
     "name": "stdout",
     "output_type": "stream",
     "text": [
      "              precision    recall  f1-score   support\n",
      "\n",
      "           0       0.76      0.76      0.76      4630\n",
      "           1       0.72      0.72      0.72      3999\n",
      "\n",
      "    accuracy                           0.74      8629\n",
      "   macro avg       0.74      0.74      0.74      8629\n",
      "weighted avg       0.74      0.74      0.74      8629\n",
      "\n",
      "Accuracy: 0.743423339900336\n",
      "F0.5 score is 0.7232200930604893\n"
     ]
    }
   ],
   "source": [
    "# Print the general metrics.\n",
    "\n",
    "print(classification_report(y_test, predictions))\n",
    "\n",
    "# Model Accuracy\n",
    "\n",
    "print(\"Accuracy:\",metrics.accuracy_score(y_test, predictions))\n",
    "\n",
    "# F 0.5 score.\n",
    "\n",
    "print('F0.5 score is ' +str(fbeta_score(y_test, predictions, average='binary', beta=0.5)))"
   ]
  },
  {
   "cell_type": "markdown",
   "id": "b672b30b",
   "metadata": {},
   "source": [
    "**Como vemos el F0.5 score se comporta muy similar al estudiado sobre el set de train, aunque para el test obtenemos un resultado algo inferior.**"
   ]
  },
  {
   "cell_type": "markdown",
   "id": "c9ec6fd7",
   "metadata": {},
   "source": [
    "### 7.3. Curva ROC"
   ]
  },
  {
   "cell_type": "code",
   "execution_count": 73,
   "id": "74068b1c",
   "metadata": {},
   "outputs": [
    {
     "data": {
      "image/png": "[encoded data removed]",
      "text/plain": [
       "<Figure size 640x480 with 1 Axes>"
      ]
     },
     "metadata": {},
     "output_type": "display_data"
    },
    {
     "name": "stdout",
     "output_type": "stream",
     "text": [
      "The Compute Area Under the Receiver Operating Characteristic is 0.8274365027541982\n"
     ]
    }
   ],
   "source": [
    "# Keep probabilities for the positive outcome only\n",
    "yhat = predict_probabilities[:, 1]\n",
    "# Calculate roc curves\n",
    "fpr, tpr, thresholds = roc_curve(y_test, yhat)\n",
    "# Plot the roc curve for the model\n",
    "plt.plot([0,1], [0,1], linestyle='--', label='No Skill')\n",
    "plt.plot(fpr, tpr, marker='.', label='Gradient Boosting')\n",
    "# Axis labels\n",
    "plt.xlabel('False Positive Rate')\n",
    "plt.ylabel('True Positive Rate')\n",
    "plt.legend()\n",
    "# Show the plot\n",
    "plt.show()\n",
    "\n",
    "# Display the ROC AUC.\n",
    "\n",
    "print('The Compute Area Under the Receiver Operating Characteristic is '+ str(metrics.roc_auc_score(y_test,yhat)))"
   ]
  },
  {
   "cell_type": "markdown",
   "id": "ea2148da",
   "metadata": {},
   "source": [
    "**En cuanto al AUC, es muy similar al resultado obtenido con el set de validación, por lo que consideramos que el modelo es funcional.**"
   ]
  },
  {
   "cell_type": "markdown",
   "id": "f67948bb",
   "metadata": {},
   "source": [
    "# <a name=\"conclusiones\"> 8. Conclusiones Generales <a> "
   ]
  },
  {
   "cell_type": "markdown",
   "id": "d5132866",
   "metadata": {},
   "source": [
    "**- Para la elección del modelo nos hemos basado principalmente en el score AUC y F0.5 dado que al estar en un problema de clases binarias, dodne debemos reducir el número de falsos positivos, son los que mejor muestran el funcionamiento del modelo.**\n",
    "\n",
    "**- El modelo que mejor se ha comportado basandonos en las métricas ha sido el LightGBM.**\n",
    "\n",
    "**- Durante la realización de optimización no hemos podido conseguir mejorarlo, sin embargo, contando con mayor tiempo de computación e introduciendo más parametros, estamos seguros de que podría mejorar los resultados del modelo.**\n",
    "\n",
    "**- Los resultados del modelo optimizado para el set de train han sido los esperados. Han sido muy similares a los de validación, por lo que descartamos que haya habido overfitting y declaramos el modelo como funcional.**"
   ]
  },
  {
   "cell_type": "markdown",
   "id": "7d2cf195",
   "metadata": {},
   "source": [
    "[Ir arriba del documento](#top)"
   ]
  }
 ],
 "metadata": {
  "kernelspec": {
   "display_name": "machine_learning_anton",
   "language": "python",
   "name": "machine_learning_anton"
  },
  "language_info": {
   "codemirror_mode": {
    "name": "ipython",
    "version": 3
   },
   "file_extension": ".py",
   "mimetype": "text/x-python",
   "name": "python",
   "nbconvert_exporter": "python",
   "pygments_lexer": "ipython3",
   "version": "3.9.15"
  }
 },
 "nbformat": 4,
 "nbformat_minor": 5
}
